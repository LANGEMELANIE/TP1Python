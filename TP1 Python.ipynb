{
 "cells": [
  {
   "cell_type": "markdown",
   "metadata": {},
   "source": [
    "# TP 1 Python : variables, affectations, expressions, types simples et opérateurs"
   ]
  },
  {
   "cell_type": "markdown",
   "metadata": {},
   "source": [
    "### Références au programme :"
   ]
  },
  {
   "cell_type": "markdown",
   "metadata": {},
   "source": [
    "\n",
    "|Contenus|Capacités attendues|\n",
    "|:--:|:--:|\n",
    "|Variables informatiques de type entier, booléen, flottant, chaîne de caractères|Choisir ou déterminer le type d'une variable|\n",
    "|Affectation|Concevoir et écrire une instruction d'affectation|\n",
    "|Séquence d'instructions|Concevoir et écrire une séquence d'instructions|\n",
    "||Ecrire une formule permettant un calcul combinant des variables|\n",
    "||Lire, comprendre, modifier ou compléter un algorithme ou un programme|\n",
    "\n"
   ]
  },
  {
   "cell_type": "markdown",
   "metadata": {},
   "source": [
    "## I/ De l'algorithme vers le programme :"
   ]
  },
  {
   "cell_type": "markdown",
   "metadata": {},
   "source": [
    "### Prenons un exemple : "
   ]
  },
  {
   "cell_type": "markdown",
   "metadata": {},
   "source": [
    "**Problème**: Comment sortir d'un labyrinthe ?"
   ]
  },
  {
   "cell_type": "markdown",
   "metadata": {},
   "source": [
    "![](Laby1.PNG)"
   ]
  },
  {
   "cell_type": "markdown",
   "metadata": {},
   "source": [
    "**Un algorithme pour un type de labyrinthe dit parfait**, **l'algorithme de la main droite** consiste à : \n",
    "- Entrer dans le labyrinthe\n",
    "- Poser sa main droite sur le mur à sa droite. Tant que la sortie n'est pas atteinte, systématiquement longer un mur en le gardant, sans jamais le lâcher, à main droite.\n",
    "- Lâcher le mur et sortir du labyrinthe"
   ]
  },
  {
   "cell_type": "markdown",
   "metadata": {},
   "source": [
    "<span style=\"color:red\">**Définition** : Un **algorithme** est une procédure qui produit, en un nombre fini d'étapes, non ambiguës et organisées, la réponse à un problème.</span>"
   ]
  },
  {
   "cell_type": "markdown",
   "metadata": {},
   "source": [
    "<span style=\"color:#582900\">**Exercice 1:** Donner au moins deux exemples d'algorithmes : un de la vie courante et un vu en cours de Mathématiques.</span>"
   ]
  },
  {
   "cell_type": "raw",
   "metadata": {},
   "source": [
    "Réponse : \n",
    "\n",
    "\n",
    "\n",
    "\n"
   ]
  },
  {
   "cell_type": "markdown",
   "metadata": {},
   "source": [
    "<span style=\"color:green\">Un algorithme s'appuie sur un ensemble très réduit de constructions : **l'affectation d'une variable**, **la séquence d'instructions**, **l'instruction conditionnelle**, **les boucles (bornées ou non bornées)**, **les fonctions**.</span> <span style=\"color:red\">Et oui ! Il y aussi des fonctions en informatique !!!</span>"
   ]
  },
  {
   "cell_type": "markdown",
   "metadata": {},
   "source": [
    "La **programmation** s'occupe de **traduire les algorithmes en un texte écrit dans un langage permettant de les exécuter sur un ordinateur**. On utilise des logiciels de programmation qui permettent de donner des instructions à l'ordinateur dans un langage compréhensible par nous, un **langage de programmation**. "
   ]
  },
  {
   "cell_type": "markdown",
   "metadata": {},
   "source": [
    "![](Bilan.PNG)"
   ]
  },
  {
   "cell_type": "markdown",
   "metadata": {},
   "source": [
    "_Source : Manuel Math'x Editions Didier_"
   ]
  },
  {
   "cell_type": "markdown",
   "metadata": {},
   "source": [
    "<span style=\"color:red\">**Définition** : Un **programme** est un texte écrit dans un langage de programmation qui décrit **un algorithme que l'on veut faire exécuter par une machine**.</span>"
   ]
  },
  {
   "cell_type": "markdown",
   "metadata": {},
   "source": [
    "### Un peu d'histoire :                                                                                                     "
   ]
  },
  {
   "cell_type": "markdown",
   "metadata": {},
   "source": [
    "![](Histoire1.PNG)"
   ]
  },
  {
   "cell_type": "markdown",
   "metadata": {},
   "source": [
    "<table><tr><td><img src=\"Histoire2.PNG\"></td><td><img src=\"Histoire3.PNG\"></td></tr></table>"
   ]
  },
  {
   "cell_type": "markdown",
   "metadata": {},
   "source": [
    "![](Histoire4.PNG)"
   ]
  },
  {
   "cell_type": "markdown",
   "metadata": {},
   "source": [
    "_Source : Maths 2nde aux éditions Magnard_"
   ]
  },
  {
   "cell_type": "markdown",
   "metadata": {},
   "source": [
    "## II/ Variables et affectations :"
   ]
  },
  {
   "cell_type": "markdown",
   "metadata": {},
   "source": [
    "### 1°) Les variables :"
   ]
  },
  {
   "cell_type": "markdown",
   "metadata": {},
   "source": [
    "<span style=\"color:green\">L'ordinateur doit stocker les **données** en mémoire, savoir les retrouver, avant de les traiter et de produire un résultat. Les **variables** permettent de stocker ces **données.**</span>"
   ]
  },
  {
   "cell_type": "markdown",
   "metadata": {},
   "source": [
    "![](variable.PNG)\n"
   ]
  },
  {
   "cell_type": "markdown",
   "metadata": {},
   "source": [
    "_Source : manuel Math'x aux éditions Didier_"
   ]
  },
  {
   "cell_type": "markdown",
   "metadata": {},
   "source": [
    "<span style=\"color:red\">**Définition** : **Définir une variable**, c'est **associer** un **nom** à une **valeur** en mémoire, valeur qui pourra être modifiée au cours de l'exécution du programme. On dit que l'on **affecte une valeur à une variable** ou encore qu'**une variable référence une valeur**.</span>"
   ]
  },
  {
   "cell_type": "markdown",
   "metadata": {},
   "source": [
    "|<span style=\"font-size:20px\">En langage naturel</span>|<span style=\"font-size:20px\">En langage **Python**</span>|\n",
    "|:------------------:|:---------------------:|\n",
    "|<span style=\"font-size:20px\">c ← 3</span>|<span style=\"font-size:20px\">c = 3</span>|\n",
    "|<span style=\"font-size:15px\">Symbole d'affectation : **la flèche**</span>|<span style=\"font-size:15px\">Opérateur d'affectation : **le symbole =**</span>|\n",
    "|<span style=\"font-size:15px\">Prononcer :</span>|<span style=\"font-size:15px\">**c prend la valeur 3** ou **on affecte 3 à c** ou **c reçoit 3**</span>|\n"
   ]
  },
  {
   "cell_type": "markdown",
   "metadata": {},
   "source": [
    "### 2°) L'affectation :"
   ]
  },
  {
   "cell_type": "markdown",
   "metadata": {},
   "source": [
    "L'affectation est **dissymétrique**. Ce n'est ni une égalité mathématique (on n'écrira pas 3 = c), ni une équation à résoudre !"
   ]
  },
  {
   "cell_type": "markdown",
   "metadata": {},
   "source": [
    "<span style=\"color:red\">**Une affectation est une instruction**</span> dont la syntaxe est : <span style=\"color:red\">**variable = expression**</span>."
   ]
  },
  {
   "cell_type": "markdown",
   "metadata": {},
   "source": [
    "**Une <span style=\"color:red\">expression</span> est une suite de caractères définissant une valeur.**"
   ]
  },
  {
   "cell_type": "markdown",
   "metadata": {},
   "source": [
    "Pour celles qui ne comportent pas de variables, on obtient la valeur en effectuant les opérations qui y figurent (par exemple : 2 × 3) ; pour celles qui comportent des variables, on les <span style=\"color:red\">**évalue**</span> en utilisant les valeurs référencées par les variables en l’état d’exécution du programme."
   ]
  },
  {
   "cell_type": "markdown",
   "metadata": {},
   "source": [
    "<span style=\"color:#582900\">**<>Exécuter la cellule code ci-dessous :**</span>"
   ]
  },
  {
   "cell_type": "code",
   "execution_count": null,
   "metadata": {},
   "outputs": [],
   "source": [
    "c = 3\n",
    "c = c + 5.4"
   ]
  },
  {
   "cell_type": "markdown",
   "metadata": {},
   "source": [
    "Rien ne s'est passé à priori ? Pour _voir_ ce qui s'est passé, il suffit de demander à **l'interpréteur Python** la valeur de la variable c :"
   ]
  },
  {
   "cell_type": "markdown",
   "metadata": {},
   "source": [
    "<span style=\"color:#582900\">**<>Exécuter la cellule code ci-dessous :**</span>"
   ]
  },
  {
   "cell_type": "code",
   "execution_count": null,
   "metadata": {},
   "outputs": [],
   "source": [
    "c"
   ]
  },
  {
   "cell_type": "markdown",
   "metadata": {},
   "source": [
    "**BILAN** : A la fin de la <span style=\"color:red\">**séquence d'instructions**</span>, la valeur référencée par la variable c est 8.4. **Quel est le déroulé ?**"
   ]
  },
  {
   "cell_type": "markdown",
   "metadata": {},
   "source": [
    "En Python, l'instruction c = 3 a créé le nombre 3 en mémoire, créé la variable c, si elle n'existait pas, et lui a affecté la valeur 3. Ensuite, l'instruction c = c + 5.4 a déclenché **l'évaluation de l'expression c + 5.4**, c'est un nouveau nombre qui est alors créé en mémoire : 8.4, puis affecté à la variable c. Le contenu précédent est effacé.\n",
    "![](variable.PNG)![](modifiervariable.PNG)"
   ]
  },
  {
   "cell_type": "markdown",
   "metadata": {},
   "source": [
    "_Source : manuel Math'x aux éditions Didier_"
   ]
  },
  {
   "cell_type": "markdown",
   "metadata": {},
   "source": [
    "<span style=\"color:green\">**Remarque : On retient qu'une instruction s'exécute tandis qu'une expression s'évalue.**</span>"
   ]
  },
  {
   "cell_type": "markdown",
   "metadata": {},
   "source": [
    "### Remarque sur la fonction print() :"
   ]
  },
  {
   "cell_type": "markdown",
   "metadata": {},
   "source": [
    "<span style=\"color:red\">La fonction print() permet d'afficher plusieurs objets les uns à la suite</span>, ci-dessous un texte, entre guillemets, suivi de la valeur de la variable c."
   ]
  },
  {
   "cell_type": "markdown",
   "metadata": {},
   "source": [
    "<span style=\"color:#582900\">**<>Exécuter la cellule code ci-dessous :**</span>"
   ]
  },
  {
   "cell_type": "code",
   "execution_count": null,
   "metadata": {},
   "outputs": [],
   "source": [
    "print(\"La valeur de la variable c est\",c)"
   ]
  },
  {
   "cell_type": "markdown",
   "metadata": {},
   "source": [
    "<span style=\"color:#582900\">**Exercice 2 :** On considère le programme Python ci-dessous. Qu'**affiche** ce programme ? Dans un premier temps, utiliser papier et crayon, puis tester le programme dans la cellule de code en le recopiant avant de l'exécuter.</span>"
   ]
  },
  {
   "cell_type": "markdown",
   "metadata": {},
   "source": [
    "![](Exercice2TP1.PNG)"
   ]
  },
  {
   "cell_type": "raw",
   "metadata": {},
   "source": [
    "Réponses : \n",
    "\n",
    "\n"
   ]
  },
  {
   "cell_type": "markdown",
   "metadata": {},
   "source": [
    "Il est pratique d'utiliser ce qu'on appelle <span style=\"color:red\">**un tableau d'état des variables**</span>. On le fera par la suite."
   ]
  },
  {
   "cell_type": "code",
   "execution_count": null,
   "metadata": {},
   "outputs": [],
   "source": [
    "#Programme à taper :\n",
    "\n",
    "\n",
    "\n",
    "\n",
    "\n"
   ]
  },
  {
   "cell_type": "markdown",
   "metadata": {},
   "source": [
    "<span style=\"color:#582900\">**Exercice 3 :** On considère l'algorithme écrit en langage naturel ci-dessous.         \n",
    "1/ Dresser **le tableau d'état des variables**. Quelles sont les valeurs des variables a et b à la fin de l'exécution du programme ?   \n",
    "2/ Si on échange les lignes 3 et 4, obtient-on les mêmes résultats ?\n"
   ]
  },
  {
   "cell_type": "markdown",
   "metadata": {},
   "source": [
    "![](algo.PNG)"
   ]
  },
  {
   "cell_type": "markdown",
   "metadata": {},
   "source": [
    "_Source : Cahier d'Algorithmique et de programmation aux éditions Delagrave_"
   ]
  },
  {
   "cell_type": "raw",
   "metadata": {},
   "source": [
    "Réponses : \n",
    "\n",
    "\n"
   ]
  },
  {
   "cell_type": "markdown",
   "metadata": {},
   "source": [
    "## III/ Types simples et opérateurs associés :"
   ]
  },
  {
   "cell_type": "markdown",
   "metadata": {},
   "source": [
    "<span style=\"color:red\">**En informatique, une valeur a un type.**</span> Ainsi, quand on affecte une valeur à une variable, celle-ci prend le type de l'objet qu'elle référence.\n",
    "![](types.PNG)"
   ]
  },
  {
   "cell_type": "markdown",
   "metadata": {},
   "source": [
    "_Source : Manuel Math'x Editions Didier_"
   ]
  },
  {
   "cell_type": "markdown",
   "metadata": {},
   "source": [
    "Les principaux types considérés en Seconde sont :\n",
    "- 2 types **numériques** : le type entier et le type flottant ;\n",
    "- le type **chaîne de caractères** : pour le texte ;\n",
    "- le type **booléen** : <span style=\"color:red\">**une valeur booléenne** ne peut prendre que 2 valeurs : **Vrai et Faux**, notées **True et False** en Python.</span>\n",
    "\n",
    "_On approfondira l'étude des booléens dans un TP ultérieur._"
   ]
  },
  {
   "cell_type": "markdown",
   "metadata": {},
   "source": [
    "### 1°) Les types numériques :"
   ]
  },
  {
   "cell_type": "markdown",
   "metadata": {},
   "source": [
    "**Dans un ordinateur, toutes les données, quelle que soit leur nature (images, sons, textes, nombres ...) sont numérisées et représentées sous forme binaire** : **une suite finie de 0 et de 1**. "
   ]
  },
  {
   "cell_type": "markdown",
   "metadata": {},
   "source": [
    "En cours de Mathématiques, on a appris que certains **nombres réels** sont qualifiés de **nombres décimaux**, avec une écriture décimale finie, et que d'autres nombres réels sont au contraire **rationnels non décimaux**, ou même **irrationnels** : ces nombres n'ont pas d'écriture décimale finie !"
   ]
  },
  {
   "cell_type": "markdown",
   "metadata": {},
   "source": [
    "<span style=\"color:green\">En binaire, **les entiers ont une écriture binaire finie**, le problème, c'est que pour les non-entiers, c'est plus compliqué, même les nombres décimaux peuvent ne pas avoir de **représentation binaire finie** ... Par exemple, 0,5 a une écriture binaire finie mais pas 0,1 ...Dans ces cas, on manipule des valeurs approchées, les calculs ne peuvent plus être exacts !</span>"
   ]
  },
  {
   "cell_type": "markdown",
   "metadata": {},
   "source": [
    "Comme sur une calculatrice, c'est le point qui remplace la virgule dans l'écriture d'un nombre décimal. "
   ]
  },
  {
   "cell_type": "markdown",
   "metadata": {},
   "source": [
    "<span style=\"color:#582900\">**<>Exécuter une à une les cellules de code ci-dessous :**</span>"
   ]
  },
  {
   "cell_type": "code",
   "execution_count": null,
   "metadata": {},
   "outputs": [],
   "source": [
    "2**60"
   ]
  },
  {
   "cell_type": "code",
   "execution_count": null,
   "metadata": {},
   "outputs": [],
   "source": [
    "10**50"
   ]
  },
  {
   "cell_type": "code",
   "execution_count": null,
   "metadata": {},
   "outputs": [],
   "source": [
    "10**400"
   ]
  },
  {
   "cell_type": "code",
   "execution_count": null,
   "metadata": {},
   "outputs": [],
   "source": [
    "0.1+0.1"
   ]
  },
  {
   "cell_type": "code",
   "execution_count": null,
   "metadata": {},
   "outputs": [],
   "source": [
    "0.1+0.1+0.1"
   ]
  },
  {
   "cell_type": "code",
   "execution_count": null,
   "metadata": {},
   "outputs": [],
   "source": [
    "0.1+0.7"
   ]
  },
  {
   "cell_type": "code",
   "execution_count": null,
   "metadata": {},
   "outputs": [],
   "source": [
    "0.5+0.5"
   ]
  },
  {
   "cell_type": "code",
   "execution_count": null,
   "metadata": {},
   "outputs": [],
   "source": [
    "0.5+0.5+0.5"
   ]
  },
  {
   "cell_type": "code",
   "execution_count": null,
   "metadata": {},
   "outputs": [],
   "source": [
    "10.0**400"
   ]
  },
  {
   "cell_type": "markdown",
   "metadata": {},
   "source": [
    "Ainsi, Python distingue deux types de nombres :\n",
    "- **Les entiers relatifs**, qui eux sont **représentés de façon exacte** dans la machine. \n",
    "On dit que ces entiers sont de <span style=\"color:red\">**type int**</span>, premières lettres du mot **integer** en Anglais ; \n",
    "- **Les autres nombres**, qui eux sont très souvent représentés de façon approchée. \n",
    "On dit que ce sont **des nombres flottants**, de <span style=\"color:red\">**type float**</span>, pour l'anglais **floating-point number**.       "
   ]
  },
  {
   "cell_type": "markdown",
   "metadata": {},
   "source": [
    "<span style=\"color:green\">En Mathématiques, 5 et 5,0 sont deux écritures du même entier naturel. En Python, 5 et 5.0 sont de natures différentes.</span>"
   ]
  },
  {
   "cell_type": "markdown",
   "metadata": {},
   "source": [
    "Tout calcul comportant au moins un flottant donne pour résultat un flottant."
   ]
  },
  {
   "cell_type": "markdown",
   "metadata": {},
   "source": [
    "Et il faut pouvoir distinguer la division décimale de la division euclidienne !"
   ]
  },
  {
   "cell_type": "markdown",
   "metadata": {},
   "source": [
    "### Les opérateurs dits arithmétiques :"
   ]
  },
  {
   "cell_type": "markdown",
   "metadata": {},
   "source": [
    "![](opérateurs.PNG)"
   ]
  },
  {
   "cell_type": "markdown",
   "metadata": {},
   "source": [
    "<span style=\"color:#582900\">**<>Exemples :**</span>"
   ]
  },
  {
   "cell_type": "code",
   "execution_count": 1,
   "metadata": {},
   "outputs": [
    {
     "data": {
      "text/plain": [
       "3"
      ]
     },
     "execution_count": 1,
     "metadata": {},
     "output_type": "execute_result"
    }
   ],
   "source": [
    "12//4"
   ]
  },
  {
   "cell_type": "code",
   "execution_count": 2,
   "metadata": {},
   "outputs": [
    {
     "data": {
      "text/plain": [
       "3.0"
      ]
     },
     "execution_count": 2,
     "metadata": {},
     "output_type": "execute_result"
    }
   ],
   "source": [
    "12/4"
   ]
  },
  {
   "cell_type": "markdown",
   "metadata": {},
   "source": [
    "En Mathématiques, 12 divisé par 4 donne l'entier 3 ; en Python, 12/4 donne un flottant, car c'est une division décimale qui a été effectuée : le résultat est un flottant. 12//4 correspond au contraire à **une division dite entière**. On calcule **le quotient de la division euclidienne de 12 par 4**. \n",
    "\n",
    "**Python respecte les règles de priorité de calcul habituelles en Mathématiques et le rôle des parenthèses dans un calcul.**\n",
    "\n",
    "On pourra également obtenir des arrondis ou calculer une valeur absolue :"
   ]
  },
  {
   "cell_type": "markdown",
   "metadata": {},
   "source": [
    "|<span style=\"font-size:20px\">Arrondir à $10^{-n}$ près</span>|<span style=\"font-size:20px\">Valeur absolue de a</span>|\n",
    "|:------------------:|:---------------------:|\n",
    "|<span style=\"font-size:20px\">round(a,n)</span>|<span style=\"font-size:20px\">abs(a)</span>|\n"
   ]
  },
  {
   "cell_type": "markdown",
   "metadata": {},
   "source": [
    "<span style=\"color:#582900\">**<>Exemple :**</span>"
   ]
  },
  {
   "cell_type": "code",
   "execution_count": 3,
   "metadata": {},
   "outputs": [
    {
     "data": {
      "text/plain": [
       "50.0"
      ]
     },
     "execution_count": 3,
     "metadata": {},
     "output_type": "execute_result"
    }
   ],
   "source": [
    "4*5**2/2"
   ]
  },
  {
   "cell_type": "raw",
   "metadata": {},
   "source": [
    "Pourquoi ?\n"
   ]
  },
  {
   "cell_type": "markdown",
   "metadata": {},
   "source": [
    "### Le module math de Python :"
   ]
  },
  {
   "cell_type": "markdown",
   "metadata": {},
   "source": [
    "Certaines fonctions ou constantes sont \"rangés\" dans des modules. **On aura ainsi besoin du <span style=\"color:red\">module math</span> pour calculer des racines carrées ou encore utilier la constante Pi**. Les cellules de code suivantes montrent comment importer du module ces outils : "
   ]
  },
  {
   "cell_type": "code",
   "execution_count": 4,
   "metadata": {},
   "outputs": [
    {
     "data": {
      "text/plain": [
       "1.4142135623730951"
      ]
     },
     "execution_count": 4,
     "metadata": {},
     "output_type": "execute_result"
    }
   ],
   "source": [
    "from math import sqrt\n",
    "sqrt(2)"
   ]
  },
  {
   "cell_type": "code",
   "execution_count": 5,
   "metadata": {},
   "outputs": [
    {
     "data": {
      "text/plain": [
       "2.0"
      ]
     },
     "execution_count": 5,
     "metadata": {},
     "output_type": "execute_result"
    }
   ],
   "source": [
    "sqrt(4)"
   ]
  },
  {
   "cell_type": "code",
   "execution_count": 6,
   "metadata": {},
   "outputs": [
    {
     "data": {
      "text/plain": [
       "3.141592653589793"
      ]
     },
     "execution_count": 6,
     "metadata": {},
     "output_type": "execute_result"
    }
   ],
   "source": [
    "from math import pi\n",
    "pi"
   ]
  },
  {
   "cell_type": "code",
   "execution_count": 7,
   "metadata": {},
   "outputs": [
    {
     "data": {
      "text/plain": [
       "8"
      ]
     },
     "execution_count": 7,
     "metadata": {},
     "output_type": "execute_result"
    }
   ],
   "source": [
    "from math import floor\n",
    "floor(25/3)"
   ]
  },
  {
   "cell_type": "markdown",
   "metadata": {},
   "source": [
    "Si on veut importer tout le contenu d'un module, on utilisera l'instruction suivante (ce n'est pas conseillé pour des raisons que l'on évoquera lors du cours sur les fonctions informatiques):"
   ]
  },
  {
   "cell_type": "code",
   "execution_count": null,
   "metadata": {},
   "outputs": [],
   "source": [
    "from math import *"
   ]
  },
  {
   "cell_type": "markdown",
   "metadata": {},
   "source": [
    "<span style=\"color:#582900\">**Exercice 4 :** Déterminer les résultats des calculs suivants, vérifier ensuite en console :</span>\n",
    "![](exerciceopérateurs.PNG)"
   ]
  },
  {
   "cell_type": "raw",
   "metadata": {},
   "source": [
    "Réponses : \n"
   ]
  },
  {
   "cell_type": "code",
   "execution_count": null,
   "metadata": {},
   "outputs": [],
   "source": [
    "     "
   ]
  },
  {
   "cell_type": "markdown",
   "metadata": {},
   "source": [
    "### 2°) Le type chaîne de caractères :"
   ]
  },
  {
   "cell_type": "markdown",
   "metadata": {},
   "source": [
    "<span style=\"color:red\">Une chaîne de caractères est écrite entre guillemets simples ou doubles.</span> Ces guillements sont indispensables pour définir le type str. Ainsi, il ne faut pas confondre l'entier 8 et la chaîne \"8\". Ce sont 2 objets différents. "
   ]
  },
  {
   "cell_type": "markdown",
   "metadata": {},
   "source": [
    "<span style=\"color:#582900\">**<>Exécuter une à une les cellules de code ci-dessous :**</span>"
   ]
  },
  {
   "cell_type": "code",
   "execution_count": null,
   "metadata": {},
   "outputs": [],
   "source": [
    "a = \"Bob\""
   ]
  },
  {
   "cell_type": "code",
   "execution_count": null,
   "metadata": {},
   "outputs": [],
   "source": [
    "a"
   ]
  },
  {
   "cell_type": "code",
   "execution_count": null,
   "metadata": {},
   "outputs": [],
   "source": [
    "print(a)"
   ]
  },
  {
   "cell_type": "code",
   "execution_count": null,
   "metadata": {},
   "outputs": [],
   "source": [
    "print(\"Charlie\")"
   ]
  },
  {
   "cell_type": "code",
   "execution_count": null,
   "metadata": {},
   "outputs": [],
   "source": [
    "print(\"8\")"
   ]
  },
  {
   "cell_type": "code",
   "execution_count": null,
   "metadata": {},
   "outputs": [],
   "source": [
    "\"8\""
   ]
  },
  {
   "cell_type": "code",
   "execution_count": null,
   "metadata": {},
   "outputs": [],
   "source": [
    "8"
   ]
  },
  {
   "cell_type": "markdown",
   "metadata": {},
   "source": [
    "## Longueur d'une chaîne :"
   ]
  },
  {
   "cell_type": "markdown",
   "metadata": {},
   "source": [
    "**La fonction len()** renvoie le nombre de caractères d'une chaîne de caractères. "
   ]
  },
  {
   "cell_type": "code",
   "execution_count": 8,
   "metadata": {},
   "outputs": [
    {
     "data": {
      "text/plain": [
       "9"
      ]
     },
     "execution_count": 8,
     "metadata": {},
     "output_type": "execute_result"
    }
   ],
   "source": [
    "len(\"Baobab%!4\")"
   ]
  },
  {
   "cell_type": "markdown",
   "metadata": {},
   "source": [
    "La chaîne vide existe :"
   ]
  },
  {
   "cell_type": "code",
   "execution_count": 9,
   "metadata": {},
   "outputs": [
    {
     "data": {
      "text/plain": [
       "0"
      ]
     },
     "execution_count": 9,
     "metadata": {},
     "output_type": "execute_result"
    }
   ],
   "source": [
    "len(\"\")"
   ]
  },
  {
   "cell_type": "markdown",
   "metadata": {},
   "source": [
    "## Accès à un caractère :"
   ]
  },
  {
   "cell_type": "markdown",
   "metadata": {},
   "source": [
    "**Les caractères d'une chaîne sont indexés de la gauche vers la droite.** On parle du caractère d'indice 0, puis du caractère d'indice 1, etc ...\n",
    "Si chaine est le nom d'une variable de type str, alors <span style=\"color:red\">l'expression **chaine[i]** désigne le caractère d'indice i.</span>"
   ]
  },
  {
   "cell_type": "code",
   "execution_count": 10,
   "metadata": {},
   "outputs": [
    {
     "data": {
      "text/plain": [
       "'s'"
      ]
     },
     "execution_count": 10,
     "metadata": {},
     "output_type": "execute_result"
    }
   ],
   "source": [
    "chaine = \"soleil\"\n",
    "chaine[0]"
   ]
  },
  {
   "cell_type": "code",
   "execution_count": 11,
   "metadata": {},
   "outputs": [
    {
     "data": {
      "text/plain": [
       "'e'"
      ]
     },
     "execution_count": 11,
     "metadata": {},
     "output_type": "execute_result"
    }
   ],
   "source": [
    "chaine[3]"
   ]
  },
  {
   "cell_type": "markdown",
   "metadata": {},
   "source": [
    "## Opérateurs sur les chaînes :"
   ]
  },
  {
   "cell_type": "markdown",
   "metadata": {},
   "source": [
    "En seconde, on ne citera que <span style=\"color:red\">**la concaténation de chaînes**</span>, qui consiste à partir de deux chaînes à en former une nouvelle, obtenue en mettant bout à bout les chaînes initiales."
   ]
  },
  {
   "cell_type": "code",
   "execution_count": 12,
   "metadata": {},
   "outputs": [
    {
     "data": {
      "text/plain": [
       "'bobbub'"
      ]
     },
     "execution_count": 12,
     "metadata": {},
     "output_type": "execute_result"
    }
   ],
   "source": [
    "\"bob\"+\"bub\""
   ]
  },
  {
   "cell_type": "markdown",
   "metadata": {},
   "source": [
    "## <span style=\"color:red\">Auto-évaluation :</span> \n",
    "Testez-vous en cliquant sur les liens suivants : http://www.lienmini.fr/10557-02 et http://www.lienmini.fr/10557-03."
   ]
  },
  {
   "cell_type": "markdown",
   "metadata": {},
   "source": [
    "## IV/ Exercices :"
   ]
  },
  {
   "cell_type": "markdown",
   "metadata": {},
   "source": [
    "<span style=\"color:#582900\">**Exercice 5 :** La définition d'une photographie est le nombre de total de Pixels la constituant.                                                        \n",
    "1/ Compléter le programme suivant calculant la définition d'une photographie grâce au nombre de pixels en largeur et au nombre de pixels en hauteur.  \n",
    "2/ Dans la 2ème cellule de code, écrire un programme calculant la définition d'une photographie de 512 px sur 80 px."
   ]
  },
  {
   "cell_type": "markdown",
   "metadata": {},
   "source": [
    "![](imagepixels.PNG)"
   ]
  },
  {
   "cell_type": "code",
   "execution_count": null,
   "metadata": {},
   "outputs": [],
   "source": [
    "Longpx = 1152\n",
    "Hautpx = 2048\n",
    "Definitionpx = ..."
   ]
  },
  {
   "cell_type": "code",
   "execution_count": null,
   "metadata": {},
   "outputs": [],
   "source": []
  },
  {
   "cell_type": "markdown",
   "metadata": {},
   "source": [
    "_Source : Cahier d'algorithmique et de programmation aux éditions Delagrave_"
   ]
  },
  {
   "cell_type": "markdown",
   "metadata": {},
   "source": [
    "<span style=\"color:#582900\">**Exercice 6 :** On veut déterminer le volume V en $cm^{3}$ d'une boîte de conserve cylindrique de rayon r cm et de hauteur h cm.       \n",
    "1/ Quelles sont les variables que l'on va utiliser ? Leurs types ?       \n",
    "2/ Ecrire les instructions permettant le calcul du volume pour une boîte de 5 cm de rayon et de hauteur 10 cm. Le calcul est-il exact ou approché ?"
   ]
  },
  {
   "cell_type": "raw",
   "metadata": {},
   "source": [
    "Réponses :\n"
   ]
  },
  {
   "cell_type": "code",
   "execution_count": null,
   "metadata": {},
   "outputs": [],
   "source": []
  },
  {
   "cell_type": "raw",
   "metadata": {},
   "source": [
    "Réponse :\n"
   ]
  },
  {
   "cell_type": "markdown",
   "metadata": {},
   "source": [
    "<span style=\"color:#582900\">**Exercice 7 :** Mael et sa soeur Jeanne ont respectivement 8 et 12 bonbons. Mael en achète 3 de plus tandis que Jeanne en mange 2, puis ils les donnent à leur grand frère Arthur pour les conserver. \n",
    "    Ecrire **une séquence d'instructions** décrivant cette situation. </span>\n"
   ]
  },
  {
   "cell_type": "code",
   "execution_count": null,
   "metadata": {},
   "outputs": [],
   "source": [
    "\n",
    "\n"
   ]
  },
  {
   "cell_type": "markdown",
   "metadata": {},
   "source": [
    "<span style=\"color:#582900\">**Exercice 8 :** Exécuter plusieurs fois la séquence d'instructions de la cellule de code ci-après, en changeant à chaque fois la valeur initiale de la variable n. Dans chaque cas, quelle est la valeur de la variable m ? Justifier pourquoi.</span>"
   ]
  },
  {
   "cell_type": "code",
   "execution_count": null,
   "metadata": {},
   "outputs": [],
   "source": [
    "n=45\n",
    "u=n%10\n",
    "d=n//10\n",
    "m=10*u+d\n",
    "m"
   ]
  },
  {
   "cell_type": "raw",
   "metadata": {},
   "source": [
    "Réponse : \n",
    "\n",
    "\n",
    "\n"
   ]
  },
  {
   "cell_type": "markdown",
   "metadata": {},
   "source": [
    "<span style=\"color:#582900\">**Exercice 9 :** Léo a écrit une séquence d'instructions qui doit permettre d'échanger le contenu de deux variables.       \n",
    "1/ En exécutant le code, Léo constate que l'échange n'a pas eu lieu. D'où vient l'erreur ?              \n",
    "2/ Modifier le code afin d'échanger les valeurs des 2 variables.            \n",
    "3/ **Généraliser** à 3 variables : écrire un programme qui permutera circulairement les valeurs de 3 variables a, b et c. Ainsi, si initialement, a = 4, b = 5 et c = 2, on obtiendra : a = 2, b = 4 et c = 5.</span>"
   ]
  },
  {
   "cell_type": "code",
   "execution_count": 13,
   "metadata": {},
   "outputs": [
    {
     "data": {
      "text/plain": [
       "(8, 8)"
      ]
     },
     "execution_count": 13,
     "metadata": {},
     "output_type": "execute_result"
    }
   ],
   "source": [
    "#Code de Léo :\n",
    "a = 7\n",
    "b = 8\n",
    "a = b\n",
    "b = a\n",
    "a,b            #On peut séparer les noms de variables par une virgule pour obtenir leurs 2 valeurs"
   ]
  },
  {
   "cell_type": "code",
   "execution_count": null,
   "metadata": {},
   "outputs": [],
   "source": [
    "#Code modifié :\n",
    "\n"
   ]
  },
  {
   "cell_type": "code",
   "execution_count": null,
   "metadata": {},
   "outputs": [],
   "source": [
    "#Généralisation à 3 variables :\n",
    "\n"
   ]
  }
 ],
 "metadata": {
  "kernelspec": {
   "display_name": "Python 3",
   "language": "python",
   "name": "python3"
  },
  "language_info": {
   "codemirror_mode": {
    "name": "ipython",
    "version": 3
   },
   "file_extension": ".py",
   "mimetype": "text/x-python",
   "name": "python",
   "nbconvert_exporter": "python",
   "pygments_lexer": "ipython3",
   "version": "3.7.11"
  }
 },
 "nbformat": 4,
 "nbformat_minor": 4
}
